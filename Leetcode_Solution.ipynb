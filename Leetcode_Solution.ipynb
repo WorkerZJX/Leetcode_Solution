{
 "cells": [
  {
   "cell_type": "markdown",
   "metadata": {},
   "source": [
    "# Leetcode 算法题\n",
    "\n",
    "\n",
    "3. 双指针问题：使用快慢指针进行\n"
   ]
  },
  {
   "cell_type": "markdown",
   "metadata": {},
   "source": [
    "##### 3. 删除有序列表中的重复元素"
   ]
  },
  {
   "cell_type": "code",
   "execution_count": 72,
   "metadata": {},
   "outputs": [
    {
     "name": "stdout",
     "output_type": "stream",
     "text": [
      "[1, 2]\n",
      "None\n",
      "[1, 2, 1, 1, 1, 1, 1, 2]\n"
     ]
    }
   ],
   "source": [
    "# 方法一：先删除所有的重复元素再一个一个的添加\n",
    "# 方法二：因为有序排列，直接变成集合\n",
    "# 方法三：双指针方法\n",
    "\n",
    "import time\n",
    " \n",
    "\n",
    "import copy \n",
    "class Solution(object):\n",
    "    def func_time(func):\n",
    "        def wrapper(*args, **kwargs):\n",
    "            start = time.time()\n",
    "            result = func(*args, **kwargs)\n",
    "            end = time.time()\n",
    "            print(f\"{func.__name__} 运行时间: {end - start:.6f} 秒\")\n",
    "            return result\n",
    "        return wrapper\n",
    "\n",
    "    \n",
    "    @func_time\n",
    "    def removeDuplicates1(self, nums):\n",
    "        time.sleep(1)\n",
    "        \"\"\"\n",
    "        :type nums: List[int]\n",
    "        :rtype: int\n",
    "        \"\"\"\n",
    "        nums_ = copy.deepcopy(nums)\n",
    "        i = 0\n",
    "        for num in nums_:\n",
    "            while num in nums:\n",
    "                nums.remove(num)\n",
    "                i +=1\n",
    "            nums.insert(i-1,num)\n",
    "\n",
    "    @func_time\n",
    "    def removeDuplicates2(self,nums):\n",
    "        time.sleep(1)\n",
    "        nums = set(nums)\n",
    "        return nums\n",
    "\n",
    "\n",
    "    @func_time\n",
    "    def removeDuplicates3(self,nums):\n",
    "        time.sleep(1)\n",
    "        fast_index = 1\n",
    "        low_index = 0\n",
    "        # while fast_index < len(nums):\n",
    "        #     if nums[fast_index] == \n",
    "        #     fast_index += 1 \n",
    "\n",
    "    def removeDuplicates4(self, nums: list[int]) -> int:\n",
    "        low = 0\n",
    "        for fast in range(len(nums)):\n",
    "            if nums[low] != nums[fast]:\n",
    "                nums[low+1] = nums[fast]\n",
    "                low += 1\n",
    "                \n",
    "\n",
    "    def removeDuplicates(self, nums: list[int]) -> int:\n",
    "        i, k = 0, 0\n",
    "        while i < len(nums):\n",
    "            nums[k] = nums[i]\n",
    "            k += 1\n",
    "            j = i + 1\n",
    "            while j < len(nums) and nums[j] == nums[i]:\n",
    "                j += 1\n",
    "            i = j\n",
    "        return k\n",
    "        \n",
    "\n",
    "    \n",
    "if __name__ == '__main__':\n",
    "    nums = [1,1,1,1,1,1,1,2]\n",
    "    \n",
    "    print(Solution().removeDuplicates4(nums))\n",
    "    print(nums)"
   ]
  },
  {
   "cell_type": "markdown",
   "metadata": {},
   "source": [
    "#####  3.删除列表中重复的元素"
   ]
  },
  {
   "cell_type": "code",
   "execution_count": 78,
   "metadata": {},
   "outputs": [
    {
     "name": "stdout",
     "output_type": "stream",
     "text": [
      "5\n",
      "[1, 1, 2, 2, 3, 3]\n"
     ]
    }
   ],
   "source": [
    "# 方法一：双指针\n",
    "\n",
    "class Solution(object):\n",
    "    def removeDuplicates(self, nums):\n",
    "        slow = 0\n",
    "        for fast in range(len(nums)):\n",
    "            if nums[slow] != nums[fast]:\n",
    "                if fast-slow <2:\n",
    "                    slow += 1\n",
    "                else:\n",
    "                    nums[slow+2] = nums[fast]\n",
    "                    slow += 1 \n",
    "        return nums[3]\n",
    "\n",
    "class Solution:\n",
    "    def removeDuplicates(self, nums: list[int]) -> int:\n",
    "        idx, left, right = 0, 0, 0\n",
    "        while left < len(nums):\n",
    "            nums[idx] = nums[left]\n",
    "            idx += 1\n",
    "            while right < len(nums) and nums[right] == nums[left]:\n",
    "                right += 1\n",
    "            if right - left > 1:\n",
    "                nums[idx] = nums[left]\n",
    "                idx += 1\n",
    "            left = right\n",
    "        return idx\n",
    "\n",
    "if __name__ == '__main__':\n",
    "    nums = [1,1,1,2,2,3]\n",
    "    print(Solution().removeDuplicates(nums))\n",
    "    print(nums)\n",
    "\n"
   ]
  },
  {
   "cell_type": "markdown",
   "metadata": {},
   "source": [
    "##### \n",
    "\n",
    "x = [1,2,1]"
   ]
  },
  {
   "cell_type": "code",
   "execution_count": 117,
   "metadata": {},
   "outputs": [
    {
     "name": "stdout",
     "output_type": "stream",
     "text": [
      "{2: 1, 3: 1, 1: 2}\n",
      "1\n"
     ]
    }
   ],
   "source": [
    "hash_table = {}\n",
    "nums = [2,3,1,1]\n",
    "for i in nums:\n",
    "    hash_table[i] = 1 + hash_table.get(i,0)\n",
    "print(hash_table)\n",
    "print(hash_table.get(2,0))"
   ]
  },
  {
   "cell_type": "code",
   "execution_count": 113,
   "metadata": {},
   "outputs": [
    {
     "name": "stdout",
     "output_type": "stream",
     "text": [
      "最大值是30，对应的键是d\n"
     ]
    }
   ],
   "source": [
    "# 假设有一个名为hash_table的dict\n",
    "hash_table = {'a': 10, 'b': 20, 'c': 5, 'd': 30}\n",
    "\n",
    "# 获取最大值及其对应的键\n",
    "max_value_key = max(hash_table, key=hash_table.get)\n",
    "max_value = hash_table[max_value_key]\n",
    "\n",
    "print(f\"最大值是{max_value}，对应的键是{max_value_key}\")"
   ]
  },
  {
   "cell_type": "code",
   "execution_count": null,
   "metadata": {},
   "outputs": [],
   "source": [
    "class Solution:\n",
    "    def majorityElement(self, nums: list[int]) -> int:\n",
    "        votes = 0\n",
    "        for num in nums:\n",
    "            if votes == 0: x = num\n",
    "            votes += 1 if num == x else -1\n",
    "        return x\n"
   ]
  },
  {
   "cell_type": "code",
   "execution_count": 125,
   "metadata": {},
   "outputs": [
    {
     "name": "stdout",
     "output_type": "stream",
     "text": [
      "1\n"
     ]
    }
   ],
   "source": [
    "# 方法一：哈希表统计法\n",
    "# 方法二：数组排序法\n",
    "# 方法三：摩尔投票法\n",
    "# 方法四：矩阵相减法，利用shuffle函数打乱列表，对于较多的数组，只用打乱就可以知道答案\n",
    "class Solution:\n",
    "    def majorityElement(self, nums: list[int]) -> int:\n",
    "        hash_table = {}\n",
    "        for num in nums:\n",
    "            hash_table[num] = hash_table.get(num, 0) + 1\n",
    "    \n",
    "    def majorityElement2(self, nums: list[int]) -> int:\n",
    "        return sorted[int(len(nums)/2)]\n",
    "    \n",
    "    def majorityElement3(self, nums: list[int]) -> int:\n",
    "        votes = 0\n",
    "        for num in nums:\n",
    "            if votes == 0:\n",
    "                x = num\n",
    "            if num == x:\n",
    "                votes += 1\n",
    "            else:\n",
    "                votes -= 1\n",
    "        return x\n",
    "    \n",
    "    def majorityElement4(self, nums: list[int]) -> int:\n",
    "        votes = 0\n",
    "        for num in nums:\n",
    "            if votes == 0: x = num\n",
    "            votes += 1 if num == x else -1\n",
    "        return x\n",
    "\n",
    "    \n",
    "if __name__ == '__main__':\n",
    "    nums = [1,3,1,1,4,1,1,5,1,1,6,2,2]\n",
    "    print(Solution().majorityElement3(nums))"
   ]
  },
  {
   "cell_type": "markdown",
   "metadata": {},
   "source": [
    "#### 6. "
   ]
  },
  {
   "cell_type": "code",
   "execution_count": 136,
   "metadata": {},
   "outputs": [
    {
     "data": {
      "text/plain": [
       "[0, 1, 2, 3, 4, 5]"
      ]
     },
     "execution_count": 136,
     "metadata": {},
     "output_type": "execute_result"
    }
   ],
   "source": [
    "x = [0,1,2,3,4]+[5,6]\n",
    "x[0:-1]"
   ]
  },
  {
   "cell_type": "code",
   "execution_count": 135,
   "metadata": {},
   "outputs": [
    {
     "data": {
      "text/plain": [
       "3"
      ]
     },
     "execution_count": 135,
     "metadata": {},
     "output_type": "execute_result"
    }
   ],
   "source": [
    "3%10"
   ]
  },
  {
   "cell_type": "code",
   "execution_count": 134,
   "metadata": {},
   "outputs": [
    {
     "name": "stdout",
     "output_type": "stream",
     "text": [
      "[4, 5, 6, 7, 1, 2, 3]\n"
     ]
    }
   ],
   "source": [
    "class Solution:\n",
    "    def rotate(self, nums: list[int], k: int) -> None:\n",
    "        \"\"\"\n",
    "        Do not return anything, modify nums in-place instead.\n",
    "        \"\"\"\n",
    "        for i in range(k):\n",
    "            nums[-1],nums[0:-1] = nums[0],nums[1:]\n",
    "\n",
    "if __name__ == \"__main__\":\n",
    "    nums = [1,2,3,4,5,6,7]\n",
    "    k = 3\n",
    "    Solution().rotate(nums,k)\n",
    "    print(nums)"
   ]
  },
  {
   "cell_type": "code",
   "execution_count": 24,
   "metadata": {},
   "outputs": [
    {
     "name": "stdout",
     "output_type": "stream",
     "text": [
      "[[7, 4, 1], [8, 5, 2], [9, 6, 3]]\n"
     ]
    }
   ],
   "source": [
    "def rotate_matrix_clockwise(matrix):\n",
    "    n = len(matrix)\n",
    "    # 验证输入是否为方阵\n",
    "    if n != len(matrix[0]):\n",
    "        raise ValueError(\"The input matrix must be a square matrix.\")\n",
    "\n",
    "    # 采用转置 + 反序的方式实现逆时针旋转\n",
    "    transposed = [[matrix[j][i] for j in range(n)] for i in range(n)]\n",
    "    rotated = [row[::-1] for row in transposed]\n",
    "    \n",
    "    return rotated\n",
    "\n",
    "# 示例\n",
    "matrix = [\n",
    "    [1, 2, 3],\n",
    "    [4, 5, 6],\n",
    "    [7, 8, 9]\n",
    "]\n",
    "\n",
    "rotated_matrix = rotate_matrix_clockwise(matrix)\n",
    "print(rotated_matrix)"
   ]
  },
  {
   "cell_type": "code",
   "execution_count": 22,
   "metadata": {},
   "outputs": [
    {
     "name": "stdout",
     "output_type": "stream",
     "text": [
      "target_function 运行时间: 2.000196 秒\n"
     ]
    },
    {
     "data": {
      "text/plain": [
       "'Function executed'"
      ]
     },
     "execution_count": 22,
     "metadata": {},
     "output_type": "execute_result"
    }
   ],
   "source": [
    "import time\n",
    "\n",
    "def func_time_decorator(func):\n",
    "    def wrapper(*args, **kwargs):\n",
    "        start = time.time()\n",
    "        result = func(*args, **kwargs)\n",
    "        end = time.time()\n",
    "        print(f\"{func.__name__} 运行时间: {end - start:.6f} 秒\")\n",
    "        return result\n",
    "    return wrapper\n",
    "\n",
    "# 使用装饰器\n",
    "@func_time_decorator\n",
    "def target_function():\n",
    "    time.sleep(2)  # 模拟耗时操作\n",
    "    return \"Function executed\"\n",
    "\n",
    "# 调用被装饰的函数\n",
    "target_function()"
   ]
  },
  {
   "cell_type": "code",
   "execution_count": 9,
   "metadata": {},
   "outputs": [
    {
     "data": {
      "text/plain": [
       "[2, 3]"
      ]
     },
     "execution_count": 9,
     "metadata": {},
     "output_type": "execute_result"
    }
   ],
   "source": [
    "class Solution:\n",
    "    def removeElement(self, nums: list[int], val: int) -> int:\n",
    "        a = 0\n",
    "        b = 0\n",
    "\n",
    "        while a < len(nums):\n",
    "            if nums[a] != val:\n",
    "                nums[b] = nums[a]\n",
    "                b += 1\n",
    "            a += 1\n",
    "\n",
    "        return b\n",
    "\n",
    "\n",
    "nums = set(nums)\n",
    "\n",
    "list(nums)"
   ]
  }
 ],
 "metadata": {
  "kernelspec": {
   "display_name": "base",
   "language": "python",
   "name": "python3"
  },
  "language_info": {
   "codemirror_mode": {
    "name": "ipython",
    "version": 3
   },
   "file_extension": ".py",
   "mimetype": "text/x-python",
   "name": "python",
   "nbconvert_exporter": "python",
   "pygments_lexer": "ipython3",
   "version": "3.10.9"
  }
 },
 "nbformat": 4,
 "nbformat_minor": 2
}
